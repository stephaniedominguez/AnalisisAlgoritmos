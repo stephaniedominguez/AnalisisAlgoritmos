{
 "cells": [
  {
   "cell_type": "markdown",
   "metadata": {},
   "source": [
    "<h2>Taller 4: Programación dinamica</h2>"
   ]
  },
  {
   "cell_type": "markdown",
   "metadata": {},
   "source": [
    "<p>1.LCS</p>"
   ]
  },
  {
   "cell_type": "code",
   "execution_count": 1,
   "metadata": {
    "collapsed": false
   },
   "outputs": [],
   "source": [
    "import math\n",
    "import time\n",
    "import random as rnd\n",
    "import numpy as np"
   ]
  },
  {
   "cell_type": "markdown",
   "metadata": {},
   "source": [
    "<p>Se utliza el algortitmo que se implemento en clase.</p>"
   ]
  },
  {
   "cell_type": "code",
   "execution_count": 2,
   "metadata": {
    "collapsed": true
   },
   "outputs": [],
   "source": [
    "global C\n",
    "\n",
    "def lcs(X,Y):\n",
    "    global C\n",
    "    C = np.ones((len(X)+1,len(Y)+1))*-1\n",
    "    lcs3(X,Y,len(X),len(Y))\n",
    "    return C[len(X)-1,len(Y)-1], C\n",
    "    \n",
    "\n",
    "def lcs3(x,y,i,j):\n",
    "    global C\n",
    "    if C[i,j] == -1:\n",
    "        if i == 0 or j == 0:\n",
    "            C[i,j] = 0\n",
    "        else:\n",
    "            if x[i-1]==y[j-1]:\n",
    "                C[i,j] = lcs3(x,y,i-1,j-1)+1\n",
    "            else:\n",
    "                C[i,j] = max(lcs3(x,y,i-1,j),lcs3(x,y,i,j-1))\n",
    "                \n",
    "    return C[i,j]"
   ]
  },
  {
   "cell_type": "code",
   "execution_count": 3,
   "metadata": {
    "collapsed": true
   },
   "outputs": [],
   "source": [
    "len_lcs, lcs_mat = lcs('ABC','AWBDC')"
   ]
  },
  {
   "cell_type": "code",
   "execution_count": 4,
   "metadata": {
    "collapsed": false
   },
   "outputs": [
    {
     "name": "stdout",
     "output_type": "stream",
     "text": [
      "[[ 0. -1.  0.  0.  0. -1.]\n",
      " [-1.  1.  1.  1.  1. -1.]\n",
      " [-1. -1. -1.  2.  2. -1.]\n",
      " [-1. -1. -1. -1. -1.  3.]]\n"
     ]
    }
   ],
   "source": [
    "print (lcs_mat)"
   ]
  },
  {
   "cell_type": "markdown",
   "metadata": {},
   "source": [
    "<h3>El primer punto:</h3>"
   ]
  },
  {
   "cell_type": "code",
   "execution_count": 5,
   "metadata": {
    "collapsed": false
   },
   "outputs": [],
   "source": [
    "global C\n",
    "def imprimirLCS(X,Y, i,j, vec):\n",
    "    global C\n",
    "    if j==0 or i==0:\n",
    "        if X[i]==Y[j]:\n",
    "            vec.append(X[i])\n",
    "        return vec\n",
    "    else:\n",
    "        if X[i]==Y[j]:\n",
    "            vec.append(X[i]) \n",
    "        izq= C[i-1,j]\n",
    "        der= C[i,j-1]\n",
    "        dia= C[i-1,j-1]\n",
    "        if dia >= izq and dia >=der:\n",
    "            return imprimirLCS(X,Y,i-1,j-1,vec)\n",
    "        elif izq>= der and izq >= dia:\n",
    "            return imprimirLCS(X,Y,i-1,j,vec)\n",
    "        elif der >= izq and der >= dia:\n",
    "            return imprimirLCS(X,Y,i,j-1,vec)"
   ]
  },
  {
   "cell_type": "code",
   "execution_count": 6,
   "metadata": {
    "collapsed": false
   },
   "outputs": [
    {
     "name": "stdout",
     "output_type": "stream",
     "text": [
      "['C', 'B', 'A']\n"
     ]
    }
   ],
   "source": [
    "a=len(lcs_mat)\n",
    "vec = list()\n",
    "pepe=imprimirLCS('ABC','AWBDC',2, 4,vec)\n",
    "print(pepe)"
   ]
  },
  {
   "cell_type": "markdown",
   "metadata": {
    "collapsed": true
   },
   "source": [
    "<i>Para el problema de la varilla</i>\n",
    "<p>Reconstruir el problema de la varilla</p>"
   ]
  },
  {
   "cell_type": "code",
   "execution_count": 7,
   "metadata": {
    "collapsed": true
   },
   "outputs": [],
   "source": [
    "def memo_cut_rodBU(p,n):\n",
    "    r = [0] * (n+1)\n",
    "    r[0] = 0\n",
    "    for j in range(1,n+1):\n",
    "        q = float('-inf')\n",
    "        for i in range(1,j+1):            \n",
    "            q = max(q, p[i-1]+r[j-i])\n",
    "        r[j] = q\n",
    "        print (r[j])\n",
    "    return r[n]"
   ]
  },
  {
   "cell_type": "code",
   "execution_count": 8,
   "metadata": {
    "collapsed": false
   },
   "outputs": [
    {
     "name": "stdout",
     "output_type": "stream",
     "text": [
      "1\n",
      "5\n",
      "8\n",
      "10\n",
      "13\n",
      "17\n",
      "18\n",
      "22\n",
      "22\n"
     ]
    }
   ],
   "source": [
    "p = [1,5,8,9,10,17,17,20,24,30]\n",
    "sol = memo_cut_rodBU(p,8)\n",
    "print (sol)   "
   ]
  },
  {
   "cell_type": "markdown",
   "metadata": {},
   "source": [
    "<p><i>Para la distacia entre dos cadenas se uso la siguiente implementación</i></p>"
   ]
  },
  {
   "cell_type": "code",
   "execution_count": 9,
   "metadata": {
    "collapsed": true
   },
   "outputs": [],
   "source": [
    "def iniciaizarMatrix(m,n):\n",
    "    di= np.zeros([m,n])\n",
    "    return di"
   ]
  },
  {
   "cell_type": "code",
   "execution_count": 10,
   "metadata": {
    "collapsed": true
   },
   "outputs": [],
   "source": [
    "def edit(m,n,x,y):\n",
    "    operacion1=0\n",
    "    operacionRemplazar=0\n",
    "    operacionInsertar=0\n",
    "    operacionEliminar=0\n",
    "    minimo=1000000.0\n",
    "    di=iniciaizarMatrix(m+1,n+1)\n",
    "    for i in range (0,n+1):\n",
    "        di[0][i]=i *3\n",
    "    for j in range (0,m+1):\n",
    "        di[j][0]=j *2\n",
    "    for i in range (0,m+1):\n",
    "        for j in range (0, n+1):\n",
    "            if (i==0 and j==0):\n",
    "                aux=0 \n",
    "            else:\n",
    "                minimo = 10000000000.0;#se inicializa en un numero muy grande para poder minimizar\n",
    "                if i > 0 and j>0 and x[i-1]==y[j-1]:\n",
    "                    operacion1= di[i-1,j-1]\n",
    "                    minimo=min(operacion1,minimo)\n",
    "                if i >0 and j>0:\n",
    "                    operacionRemplazar = di[i-1,j-1] + 1\n",
    "                    minimo=min(operacionRemplazar,minimo)\n",
    "                if i> 0:\n",
    "                    operacionInsertar = di[i-1,j] +1\n",
    "                    minimo=min(operacionInsertar,minimo)\n",
    "                if j>0:\n",
    "                    operacionEliminar = di[i,j-1] +1\n",
    "                    minimo=min(operacionEliminar,minimo)\n",
    "                di[i][j]=minimo\n",
    "    return di[m][n]"
   ]
  },
  {
   "cell_type": "code",
   "execution_count": 11,
   "metadata": {
    "collapsed": false
   },
   "outputs": [
    {
     "name": "stdout",
     "output_type": "stream",
     "text": [
      "1.0\n"
     ]
    }
   ],
   "source": [
    "y= \"hola\"\n",
    "x= \"holo\"\n",
    "m=len(x)\n",
    "n= len(y)\n",
    "a=edit(m,n,x,y)\n",
    "print(a)"
   ]
  },
  {
   "cell_type": "markdown",
   "metadata": {
    "collapsed": true
   },
   "source": [
    "<p>Para el problema del rio se realizo la siguiente implementación</p>\n"
   ]
  },
  {
   "cell_type": "markdown",
   "metadata": {},
   "source": [
    "Floyd warshall implementado por https://github.com/cy94/floyd-warshall"
   ]
  },
  {
   "cell_type": "code",
   "execution_count": 17,
   "metadata": {
    "collapsed": false
   },
   "outputs": [],
   "source": [
    "def floyd_warshall(graph):\n",
    "    V = len(graph)\n",
    "    for k in range(V):\n",
    "        for i in range(V):\n",
    "            for j in range(V):\n",
    "                graph[i][j] = min(graph[i][j],graph[i][k]+ graph[k][j])\n",
    "    for i in range(V):\n",
    "        print (graph[i])"
   ]
  },
  {
   "cell_type": "markdown",
   "metadata": {},
   "source": [
    "con la implementación nos da la respuesta que estamos para determinar el menor costo en cualquier grafo"
   ]
  },
  {
   "cell_type": "code",
   "execution_count": null,
   "metadata": {
    "collapsed": true
   },
   "outputs": [],
   "source": []
  }
 ],
 "metadata": {
  "anaconda-cloud": {},
  "kernelspec": {
   "display_name": "Python [conda root]",
   "language": "python",
   "name": "conda-root-py"
  },
  "language_info": {
   "codemirror_mode": {
    "name": "ipython",
    "version": 3
   },
   "file_extension": ".py",
   "mimetype": "text/x-python",
   "name": "python",
   "nbconvert_exporter": "python",
   "pygments_lexer": "ipython3",
   "version": "3.5.2"
  }
 },
 "nbformat": 4,
 "nbformat_minor": 1
}
