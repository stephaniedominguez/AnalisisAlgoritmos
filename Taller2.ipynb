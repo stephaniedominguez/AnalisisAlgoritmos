{
 "cells": [
  {
   "cell_type": "markdown",
   "metadata": {},
   "source": [
    "<h1>Taller 2</h1>"
   ]
  },
  {
   "cell_type": "markdown",
   "metadata": {},
   "source": [
    "<p>La precondición de la matrices es que ambas sean de tamaño nxn</p>"
   ]
  },
  {
   "cell_type": "code",
   "execution_count": 7,
   "metadata": {
    "collapsed": true
   },
   "outputs": [],
   "source": [
    "import numpy as np\n",
    "from random import *"
   ]
  },
  {
   "cell_type": "code",
   "execution_count": 11,
   "metadata": {
    "collapsed": false
   },
   "outputs": [],
   "source": [
    "temp=[]\n",
    "B=[]\n",
    "temp=np.random.random((3, 3))\n",
    "B=np.random.random((3, 3))"
   ]
  },
  {
   "cell_type": "code",
   "execution_count": 17,
   "metadata": {
    "collapsed": false
   },
   "outputs": [
    {
     "name": "stdout",
     "output_type": "stream",
     "text": [
      "[[ 0.08587797  0.00871025  0.7182674 ]\n",
      " [ 0.48268815  0.91229352  0.17083082]\n",
      " [ 0.80605935  0.50200952  0.24037981]]\n",
      "[[ 0.32543007  0.93255057  0.58309377]\n",
      " [ 0.51313093  0.50267881  0.25783195]\n",
      " [ 0.37762284  0.95091521  0.51882564]]\n"
     ]
    }
   ],
   "source": [
    "print(temp)\n",
    "print(B)"
   ]
  },
  {
   "cell_type": "code",
   "execution_count": 33,
   "metadata": {
    "collapsed": true
   },
   "outputs": [],
   "source": [
    "def intialize(A):\n",
    "    for i in range(0,len(A)):\n",
    "        for j in range (0, len(A)):\n",
    "            A.append(0)"
   ]
  },
  {
   "cell_type": "code",
   "execution_count": 69,
   "metadata": {
    "collapsed": true
   },
   "outputs": [],
   "source": [
    "def multiplyMatriz(A,B):\n",
    "    tam=len(A)\n",
    "    suma=np.zeros((tam, tam))\n",
    "    for i in range(0, tam):\n",
    "        for j in range(0, tam):\n",
    "            aux=0;\n",
    "            for k in range(0, tam):\n",
    "                print()\n",
    "                aux = A[i][k]*B[k][j] +aux\n",
    "            print(i, \" \", j, \" \", aux)\n",
    "            suma[i][j]=aux\n",
    "    return suma"
   ]
  },
  {
   "cell_type": "code",
   "execution_count": 73,
   "metadata": {
    "collapsed": false
   },
   "outputs": [
    {
     "name": "stdout",
     "output_type": "stream",
     "text": [
      "0   0   12\n",
      "0   1   18\n",
      "0   2   24\n",
      "1   0   12\n",
      "1   1   18\n",
      "1   2   24\n",
      "2   0   12\n",
      "2   1   18\n",
      "2   2   24\n",
      "[[ 12.  18.  24.]\n",
      " [ 12.  18.  24.]\n",
      " [ 12.  18.  24.]]\n"
     ]
    }
   ],
   "source": [
    "A=([[1,2,3],[1,2,3],[1,2,3]])\n",
    "B=([[2,3,4],[2,3,4],[2,3,4]])\n",
    "suma=multiplyMatriz(A,B)\n",
    "print(suma)"
   ]
  },
  {
   "cell_type": "markdown",
   "metadata": {},
   "source": [
    "<p>Como se puede observar la suma de matrices nos aseguran la suma de una matriz de nxn</p>"
   ]
  },
  {
   "cell_type": "code",
   "execution_count": 22,
   "metadata": {
    "collapsed": false
   },
   "outputs": [],
   "source": [
    "def functionImpar(A):\n",
    "    tam=len(A)\n",
    "    for i in range (0,tam):\n",
    "        A[i].append(0)\n",
    "        A.append(0)"
   ]
  },
  {
   "cell_type": "code",
   "execution_count": null,
   "metadata": {
    "collapsed": true
   },
   "outputs": [],
   "source": [
    "def sumaMatrices(A,B):\n",
    "    tam = len(A)\n",
    "    C=[]\n",
    "    intialize(C)\n",
    "    for i in range(0, tam):\n",
    "        for j in range (0, tam):\n",
    "            C[i][j] = A[i][j] + B[i][j]\n",
    "    return C"
   ]
  },
  {
   "cell_type": "code",
   "execution_count": 1,
   "metadata": {
    "collapsed": true
   },
   "outputs": [],
   "source": [
    "def divideAndConquer(A,B, hi, lo, izq, der):\n",
    "    n=len(A)\n",
    "    if(n==1):\n",
    "        matriz = sumaMatriz(A,B)\n",
    "    else:\n",
    "        part1 =divideAndConquer(A,B,hi,lo/2,izq, der/2)\n",
    "        parte2 =divideAndConquer(A,B,hi,lo/2,(der/2)+1, der)\n",
    "        parte3 =divideAndConquer(A,B,(lo/2)+1,lo,izq, der/2)\n",
    "        parte4 =divideAndConquer(A,B,(lo/2)+1,lo,(der/2)+1, der)\n",
    "        c1= suma(parte1,parte2)\n",
    "        C=[]\n",
    "        intialize(C)\n",
    "        for i in range(0, tam):\n",
    "            for j in range (0, tam):\n",
    "                C[i][j] = A[i][j] + B[i][j]"
   ]
  },
  {
   "cell_type": "code",
   "execution_count": 23,
   "metadata": {
    "collapsed": false
   },
   "outputs": [
    {
     "name": "stdout",
     "output_type": "stream",
     "text": [
      "[[1, 2, 3, 0], [1, 2, 3, 0], [1, 2, 3, 0], 0, 0, 0]\n"
     ]
    }
   ],
   "source": [
    "A=([[1,2,3],[1,2,3],[1,2,3]])\n",
    "B=([[2,3,4],[2,3,4],[2,3,4]])\n",
    "functionImpar(A)\n",
    "print(A)"
   ]
  },
  {
   "cell_type": "code",
   "execution_count": null,
   "metadata": {
    "collapsed": true
   },
   "outputs": [],
   "source": [
    "def strassen(A,B)"
   ]
  }
 ],
 "metadata": {
  "anaconda-cloud": {},
  "kernelspec": {
   "display_name": "Python [conda root]",
   "language": "python",
   "name": "conda-root-py"
  },
  "language_info": {
   "codemirror_mode": {
    "name": "ipython",
    "version": 3
   },
   "file_extension": ".py",
   "mimetype": "text/x-python",
   "name": "python",
   "nbconvert_exporter": "python",
   "pygments_lexer": "ipython3",
   "version": "3.5.2"
  }
 },
 "nbformat": 4,
 "nbformat_minor": 1
}
