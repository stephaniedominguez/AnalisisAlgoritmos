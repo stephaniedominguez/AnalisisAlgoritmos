{
 "cells": [
  {
   "cell_type": "markdown",
   "metadata": {},
   "source": [
    "<h2>Tercer parcial:</h2>\n",
    "\n",
    "Diseñe un algoritmo que en tiempo O(nlg n) pueda determinar si un poligono deﬁnido por una secuencia de n puntos es simple (sus segmentos no se intersectan entre si)."
   ]
  },
  {
   "cell_type": "code",
   "execution_count": 1,
   "metadata": {
    "collapsed": true
   },
   "outputs": [],
   "source": [
    "import numpy as np\n",
    "import math\n",
    "%matplotlib inline\n",
    "from matplotlib import pyplot as plt\n",
    "from matplotlib.path import Path\n",
    "from matplotlib.patches import PathPatch"
   ]
  },
  {
   "cell_type": "code",
   "execution_count": null,
   "metadata": {
    "collapsed": true
   },
   "outputs": [],
   "source": [
    "def puntosColineales(puntos_x,puntos_y):\n",
    "    n = len(puntos_x)\n",
    "    pendientes = []\n",
    "    tuplas = []\n",
    "    puntos = []\n",
    "    puntitos = False;\n",
    "    for i in range(n):\n",
    "        coord_x_1 = puntos_x[i]\n",
    "        coord_y_1 = puntos_y[i]\n",
    "        puntos.append((coord_x_1,coord_y_1))\n",
    "        j=i\n",
    "        for j  in range(n):\n",
    "            coord_x_2 = puntos_x[j]\n",
    "            coord_y_2 = puntos_y[j]\n",
    "            tupla = (coord_x_2,coord_y_2)\n",
    "            tupla3 = (coord_x_1,coord_y_1)\n",
    "            if coord_x_2-coord_x_1 != 0 :\n",
    "                pendiente = float((coord_y_2-coord_y_1)/(coord_x_2-coord_x_1))\n",
    "                tupla2 = (tupla3,tupla)\n",
    "                tuplas.append(tupla2)\n",
    "                pendientes.append(pendiente)\n",
    "            else:\n",
    "                if coord_x_2 == coord_x_1 and coord_y_2 != coord_y_1:\n",
    "                    pendiente = 1000\n",
    "                    tupla2 = (tupla3,tupla)\n",
    "                    tuplas.append(tupla2)\n",
    "                    pendientes.append(pendiente)\n",
    "                \n",
    "    x = 0;\n",
    "    for a,b in tuplas:    \n",
    "        for i in range(n): \n",
    "            if a != puntos[i] and b!= puntos[i]:\n",
    "                if puntos[i][0] != a[0] and puntos[i][0] - b[0]: \n",
    "                    pendiente2 = float((puntos[i][1] - b[1])/(puntos[i][0] - b[0]))\n",
    "                elif puntos[i][0] == a[0]:\n",
    "                    pendiente2 = 1000\n",
    "                    \n",
    "                if pendiente2 == pendientes[x]:\n",
    "                            puntitos = True\n",
    "                \n",
    "        x = x + 1\n",
    "    \n",
    "    print puntitos"
   ]
  },
  {
   "cell_type": "markdown",
   "metadata": {},
   "source": [
    "<h3> Punto 2</h3>"
   ]
  },
  {
   "cell_type": "markdown",
   "metadata": {},
   "source": [
    "Para el punto 2 se decidio gracias a mucha investigación usar el algoritmo de sweep line.\n",
    "1. El primer paso se realizaria viendo las intersecciones\n",
    "2. se ignora las que son en el punto final para formar el poligono\n",
    "3. se repite.\n",
    "http://jeffe.cs.illinois.edu/teaching/373/notes/x06-sweepline.pdf\n",
    "http://www.geeksforgeeks.org/given-a-set-of-line-segments-find-if-any-two-segments-intersect/"
   ]
  },
  {
   "cell_type": "code",
   "execution_count": 2,
   "metadata": {
    "collapsed": true
   },
   "outputs": [],
   "source": [
    "combs = []\n",
    "for x in [1,2,3]:\n",
    "     for y in [3,1,4]:\n",
    "        if x != y:\n",
    "            combs.append((x, y))"
   ]
  },
  {
   "cell_type": "code",
   "execution_count": 3,
   "metadata": {
    "collapsed": false
   },
   "outputs": [
    {
     "name": "stdout",
     "output_type": "stream",
     "text": [
      "[(1, 3), (1, 4), (2, 3), (2, 1), (2, 4), (3, 1), (3, 4)]\n"
     ]
    }
   ],
   "source": [
    "print(combs)"
   ]
  },
  {
   "cell_type": "code",
   "execution_count": 7,
   "metadata": {
    "collapsed": true
   },
   "outputs": [],
   "source": [
    "def parcial2(ini, le):\n",
    "    x1, y1 = ini\n",
    "    x2, y2 = le\n",
    "    dx = x2 - x1\n",
    "    dy = y2 - y1\n",
    "    is_steep = abs(dy) > abs(dx)\n",
    "    if is_steep:\n",
    "        x1, y1 = y1, x1\n",
    "        x2, y2 = y2, x2\n",
    "    swapped = False\n",
    "    if x1 > x2:\n",
    "        x1, x2 = x2, x1\n",
    "        y1, y2 = y2, y1\n",
    "        swapped = True\n",
    "    dx = x2 - x1\n",
    "    dy = y2 - y1\n",
    "    error = int(dx / 2.0)\n",
    "    ystep = 1 if y1 < y2 else -1\n",
    "    y = y1\n",
    "    points = []\n",
    "    for x in range(x1, x2 + 1):\n",
    "        coord = (y, x) if is_steep else (x, y)\n",
    "        points.append(coord)\n",
    "        error -= abs(dy)\n",
    "        if error < 0:\n",
    "            y += ystep\n",
    "            error += dx\n",
    "    if swapped:\n",
    "        points.reverse()\n",
    "    return points"
   ]
  }
 ],
 "metadata": {
  "anaconda-cloud": {},
  "kernelspec": {
   "display_name": "Python [conda root]",
   "language": "python",
   "name": "conda-root-py"
  },
  "language_info": {
   "codemirror_mode": {
    "name": "ipython",
    "version": 3
   },
   "file_extension": ".py",
   "mimetype": "text/x-python",
   "name": "python",
   "nbconvert_exporter": "python",
   "pygments_lexer": "ipython3",
   "version": "3.5.2"
  }
 },
 "nbformat": 4,
 "nbformat_minor": 1
}
