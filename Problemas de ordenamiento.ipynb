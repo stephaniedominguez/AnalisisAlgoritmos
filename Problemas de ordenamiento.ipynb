{
 "cells": [
  {
   "cell_type": "markdown",
   "metadata": {},
   "source": [
    "# Taller 1 Problemas de ordenamiento"
   ]
  },
  {
   "cell_type": "markdown",
   "metadata": {},
   "source": [
    "<h2>Merge Sort</h2>"
   ]
  },
  {
   "cell_type": "markdown",
   "metadata": {},
   "source": [
    "<h2>Problema de ordenamiento</h2>\n",
    "\n",
    "<p>El input y el output de ambos ordenamientos en el mismo.</p>\n",
    "\n",
    "Input:  $A[1..n] = <a_1,a_2\\ldots, a_n>$\n",
    "\n",
    "<p>Se inicia con un arreglo de n pocisiones</p>\n",
    "\n",
    "Output: $A'[1..n] = <a'_1,a'_2\\ldots, a'_n> : a'_1\\leq a'_2 \\leq \\ldots \\leq  a'_n$\n",
    "\n",
    "<p>Se inicia con un arreglo ordenado de n pocisiones</p>"
   ]
  },
  {
   "cell_type": "markdown",
   "metadata": {},
   "source": [
    "<h2>Ordenamiento por el algoritmo de mergeSort</h2>"
   ]
  },
  {
   "cell_type": "code",
   "execution_count": 1,
   "metadata": {
    "collapsed": false
   },
   "outputs": [],
   "source": [
    "import math\n",
    "import time\n",
    "import matplotlib.pyplot as plt\n",
    "from itertools import chain\n",
    "import random as rnd\n",
    "import numpy as np\n",
    "import pylab as pl\n",
    "import time as tm\n",
    "%matplotlib inline"
   ]
  },
  {
   "cell_type": "code",
   "execution_count": 2,
   "metadata": {
    "collapsed": false
   },
   "outputs": [],
   "source": [
    "def mergeSort(A):\n",
    "    temp = []\n",
    "    if len(A) < 2:\n",
    "        return A\n",
    "    else:\n",
    "        mid = int(len(A) / 2)\n",
    "        IZQ = mergeSort(A[:mid])\n",
    "        DER = mergeSort(A[mid:])\n",
    "        i = 0\n",
    "        j = 0\n",
    "        while i < len(IZQ) and j < len(DER):\n",
    "            if IZQ[i] > DER[j]:\n",
    "                temp.append(DER[j])\n",
    "                j = j + 1\n",
    "            else:\n",
    "                temp.append(IZQ[i])\n",
    "                i = i + 1\n",
    "        temp += IZQ[i:]\n",
    "        temp += DER[j:]\n",
    "    return temp\n"
   ]
  },
  {
   "cell_type": "code",
   "execution_count": 3,
   "metadata": {
    "collapsed": false
   },
   "outputs": [
    {
     "name": "stdout",
     "output_type": "stream",
     "text": [
      "[1, 2, 3, 4, 5, 6, 7, 8, 9]\n",
      "[4, 2, 8, 0, 7, 3, 1, 9, 5, 6]\n",
      "[0, 1, 2, 3, 4, 5, 6, 7, 8, 9]\n"
     ]
    }
   ],
   "source": [
    "A = [5,9,6,1,8,4,2,3,7]\n",
    "print (mergeSort(A))\n",
    "B = np.random.permutation(range(0,10))\n",
    "C= B.tolist()\n",
    "print(C)\n",
    "print (mergeSort(C))"
   ]
  },
  {
   "cell_type": "markdown",
   "metadata": {},
   "source": [
    "<h3>Correctitud<h3>\n",
    "<p>Definición de la invariente</p>\n",
    "<b>Invariante:</b><p>Para un arreglo temporal temp en la iteración k suponiendo dos subindices recorriendo el arreglo inicial A (i y j) se dice que temp[k] menor igual a[x] tal que x pertenece {i+1 ... m} y temp[k] mayor igual que a[x] tal que x pertenece a {j .. q}. es decir que el elemento k es el minimo de los elementos restantes, todos los elementos por debajo de k estan ordenados.</p>"
   ]
  },
  {
   "cell_type": "code",
   "execution_count": 4,
   "metadata": {
    "collapsed": false
   },
   "outputs": [],
   "source": [
    "def invarianteMergeSort(A, i):\n",
    "    if(i < len(A)):\n",
    "        while i < len(A)-1:\n",
    "            if(A[i] < A[i+1]):\n",
    "                i = i + 1\n",
    "            else:\n",
    "                return False\n",
    "    return True"
   ]
  },
  {
   "cell_type": "code",
   "execution_count": 5,
   "metadata": {
    "collapsed": false
   },
   "outputs": [
    {
     "name": "stdout",
     "output_type": "stream",
     "text": [
      "True\n",
      "False\n"
     ]
    }
   ],
   "source": [
    "print (invarianteMergeSort([1, 2, 3, 4], 2))\n",
    "print (invarianteMergeSort( [5, 3, 2, 1], 2))"
   ]
  },
  {
   "cell_type": "markdown",
   "metadata": {},
   "source": [
    "<p>Verificación de la invariante</p>\n",
    "<b>Invariante:</b>Se verifica que para la clase que esta implementada la invariante sera correcta por tanto se puede observar con el ejemplo anterior."
   ]
  },
  {
   "cell_type": "code",
   "execution_count": 6,
   "metadata": {
    "collapsed": true
   },
   "outputs": [],
   "source": [
    "def right_mergeSort(A):\n",
    "    temp = []\n",
    "    \n",
    "    if len(A) < 2:\n",
    "        return A\n",
    "    else:\n",
    "        mid = int(len(A) / 2)\n",
    "        IZQ = mergeSort(A[:mid])\n",
    "        DER = mergeSort(A[mid:])\n",
    "        assert invarianteMergeSort(IZQ, 0)\n",
    "        i = 0\n",
    "        j = 0\n",
    "        while i < len(IZQ) and j < len(DER):\n",
    "            if IZQ[i] > DER[j]:\n",
    "                temp.append(DER[j])\n",
    "                j = j + 1\n",
    "            else:\n",
    "                temp.append(IZQ[i])\n",
    "                i = i + 1\n",
    "        temp += IZQ[i:]\n",
    "        temp += DER[j:]\n",
    "    assert invarianteMergeSort(temp, 0)\n",
    "    return temp"
   ]
  },
  {
   "cell_type": "code",
   "execution_count": 7,
   "metadata": {
    "collapsed": false
   },
   "outputs": [
    {
     "name": "stdout",
     "output_type": "stream",
     "text": [
      "[1, 2, 3, 4]\n"
     ]
    }
   ],
   "source": [
    "print (right_mergeSort([1, 4, 3, 2]))"
   ]
  },
  {
   "cell_type": "markdown",
   "metadata": {
    "collapsed": true
   },
   "source": [
    "<p>La invariante verifico la correctiud </p>"
   ]
  },
  {
   "cell_type": "code",
   "execution_count": 8,
   "metadata": {
    "collapsed": false
   },
   "outputs": [],
   "source": [
    "class Counter:\n",
    "    '''\n",
    "    Class Counter\n",
    "    Implements a step counter, which is used to compute the number of basic operations performed in\n",
    "    a particular call to a function.\n",
    "    '''\n",
    "    def __init__(self):\n",
    "        self.steps = 0\n",
    "\n",
    "    def reset(self):\n",
    "        self.steps = 0\n",
    "\n",
    "    def count(self):\n",
    "        self.steps += 1\n",
    "\n",
    "    def print_steps(self):\n",
    "        print (\"Number of steps =\", self.steps)\n",
    "        \n",
    "def acct_mergeSort(A, acct):\n",
    "    temp = [];acct.count()\n",
    "    if len(A) < 2:\n",
    "        acct.count()\n",
    "        return A;acct.count()\n",
    "    else:\n",
    "        acct.count()\n",
    "        mid = int(len(A) / 2);acct.count()\n",
    "        IZQ = mergeSort(A[:mid]);\n",
    "        DER = mergeSort(A[mid:]);\n",
    "        i = 0;acct.count()\n",
    "        j = 0;acct.count()\n",
    "        while i < len(IZQ) and j < len(DER):\n",
    "            acct.count()\n",
    "            if IZQ[i] > DER[j]:\n",
    "                acct.count()\n",
    "                temp.append(DER[j]);acct.count()\n",
    "                j = j + 1;acct.count()\n",
    "            else:\n",
    "                temp.append(IZQ[i]);acct.count()\n",
    "                i = i + 1;acct.count()\n",
    "        temp += IZQ[i:];acct.count()\n",
    "        temp += DER[j:];acct.count()"
   ]
  },
  {
   "cell_type": "code",
   "execution_count": 9,
   "metadata": {
    "collapsed": false
   },
   "outputs": [
    {
     "name": "stdout",
     "output_type": "stream",
     "text": [
      "Number of steps = 39\n"
     ]
    }
   ],
   "source": [
    "B = np.random.permutation(range(0,10))\n",
    "acct = Counter()\n",
    "C= B.tolist()\n",
    "acct_mergeSort(C, acct)\n",
    "acct.print_steps()\n"
   ]
  },
  {
   "cell_type": "code",
   "execution_count": 10,
   "metadata": {
    "collapsed": false
   },
   "outputs": [],
   "source": [
    "def exper_analysis(n):\n",
    "    results = []\n",
    "    acct = Counter()\n",
    "    for i in range(n):\n",
    "        B = np.random.permutation(range(0,i))\n",
    "        C= B.tolist()\n",
    "        acct.reset()\n",
    "        acct_mergeSort(C, acct)\n",
    "        results.append(acct.steps)\n",
    "    return results"
   ]
  },
  {
   "cell_type": "code",
   "execution_count": 11,
   "metadata": {
    "collapsed": false
   },
   "outputs": [
    {
     "name": "stdout",
     "output_type": "stream",
     "text": [
      "[2, 2, 10, 10, 15, 21, 24, 20, 23, 36]\n"
     ]
    }
   ],
   "source": [
    "print (exper_analysis(10))"
   ]
  },
  {
   "cell_type": "code",
   "execution_count": 12,
   "metadata": {
    "collapsed": false
   },
   "outputs": [
    {
     "data": {
      "text/plain": [
       "[<matplotlib.lines.Line2D at 0x10cfd80b8>]"
      ]
     },
     "execution_count": 12,
     "metadata": {},
     "output_type": "execute_result"
    },
    {
     "data": {
      "image/png": "[encoded data removed]",
      "text/plain": [
       "<matplotlib.figure.Figure at 0x10aa84978>"
      ]
     },
     "metadata": {},
     "output_type": "display_data"
    }
   ],
   "source": [
    "pl.clf()\n",
    "x = np.arange(1000)\n",
    "y = np.array(exper_analysis(1000))\n",
    "pl.plot(x, y, 'k.')"
   ]
  },
  {
   "cell_type": "markdown",
   "metadata": {},
   "source": [
    "<p>La grafica anterior es para el numero de pasos que marcan.</p>"
   ]
  },
  {
   "cell_type": "code",
   "execution_count": 13,
   "metadata": {
    "collapsed": false
   },
   "outputs": [],
   "source": [
    "def tiempo_mergeSort(n):\n",
    "    results = []\n",
    "    acct = Counter()\n",
    "    for i in range(n):\n",
    "        tic= time.clock()\n",
    "        B = np.random.permutation(range(0,i))\n",
    "        C= B.tolist()\n",
    "        acct.reset()\n",
    "        acct_mergeSort(C, acct)\n",
    "        toc= time.clock()\n",
    "        tiempo= toc-tic\n",
    "        results.append(tiempo)\n",
    "    return results"
   ]
  },
  {
   "cell_type": "code",
   "execution_count": 14,
   "metadata": {
    "collapsed": false
   },
   "outputs": [
    {
     "name": "stdout",
     "output_type": "stream",
     "text": [
      "[7.200000000029405e-05, 0.00017500000000048033, 0.00017999999999940286, 0.00012200000000017752, 0.00013199999999979894, 0.0001299999999995194, 0.000140000000000029, 0.00011699999999947863, 0.00017900000000015126, 0.00020700000000051233]\n"
     ]
    }
   ],
   "source": [
    "print (tiempo_mergeSort(10))"
   ]
  },
  {
   "cell_type": "code",
   "execution_count": 15,
   "metadata": {
    "collapsed": false
   },
   "outputs": [
    {
     "data": {
      "text/plain": [
       "[<matplotlib.lines.Line2D at 0x10d7a4f28>]"
      ]
     },
     "execution_count": 15,
     "metadata": {},
     "output_type": "execute_result"
    },
    {
     "data": {
      "image/png": "[encoded data removed]",
      "text/plain": [
       "<matplotlib.figure.Figure at 0x10aa84c50>"
      ]
     },
     "metadata": {},
     "output_type": "display_data"
    }
   ],
   "source": [
    "pl.clf()\n",
    "x = np.arange(100)\n",
    "y = np.array(tiempo_mergeSort(100))\n",
    "pl.plot(x, y, 'k.')"
   ]
  },
  {
   "cell_type": "markdown",
   "metadata": {},
   "source": [
    "<h2>Quick sort</h2>"
   ]
  },
  {
   "cell_type": "markdown",
   "metadata": {},
   "source": [
    "<h2>Problema de ordenamiento</h2>\n",
    "\n",
    "Input:  $A[1..n] = <a_1,a_2\\ldots, a_n>$\n",
    "\n",
    "<p>Se inicia con un arreglo de n pocisiones</p>\n",
    "\n",
    "Output: $A'[1..n] = <a'_1,a'_2\\ldots, a'_n> : a'_1\\leq a'_2 \\leq \\ldots \\leq  a'_n$\n",
    "\n",
    "<p>Se inicia con un arreglo ordenado de n pocisiones</p>"
   ]
  },
  {
   "cell_type": "code",
   "execution_count": 16,
   "metadata": {
    "collapsed": true
   },
   "outputs": [],
   "source": [
    "def quicksort(A, i, f):\n",
    "    if i < f:\n",
    "        pivote = partition(A, i, f)\n",
    "        quicksort(A, i, pivote-1)\n",
    "        quicksort(A, pivote+1, f)\n",
    "    return A"
   ]
  },
  {
   "cell_type": "code",
   "execution_count": 17,
   "metadata": {
    "collapsed": true
   },
   "outputs": [],
   "source": [
    "def partition(A, i, f):\n",
    "    pivote = A[i]\n",
    "    izq = i+1\n",
    "    der = f\n",
    "    bandera = True\n",
    "    while  bandera:\n",
    "        while izq <= der and A[izq] <= pivote:\n",
    "            izq = izq + 1\n",
    "        while A[der] >= pivote and der >=izq:\n",
    "            der = der -1\n",
    "        if der < izq:\n",
    "            bandera= False\n",
    "        else:\n",
    "            A[izq],A[der]=A[der],A[izq]\n",
    "\n",
    "    A[i], A[der]= A[der], A[i]\n",
    "    return der"
   ]
  },
  {
   "cell_type": "code",
   "execution_count": 18,
   "metadata": {
    "collapsed": false
   },
   "outputs": [
    {
     "name": "stdout",
     "output_type": "stream",
     "text": [
      "[1, 2, 3, 4]\n",
      "[-5, -2, 3, 3, 5, 19]\n"
     ]
    }
   ],
   "source": [
    "A = [1, 2, 3, 4]\n",
    "tamA = len(A)\n",
    "print (quicksort(A,0,tamA-1))\n",
    "B = [-5, 3, -2, 3, 19, 5]\n",
    "tamB= len(B)\n",
    "print (quicksort(B,0,tamB-1))"
   ]
  },
  {
   "cell_type": "markdown",
   "metadata": {},
   "source": [
    "<h3>Correctitud<h3>\n",
    "<p>Definición de la invariente</p>\n",
    "<b>Invariante:</b> Si el pivote esta en la pocision k del arreglo A se puede decir que el elemento en la posición y teniendo en cuenta dos subindices i,j siendo i menor a j, se deduce que el elemento en la pocision k se acomodara de tal forma que: A[k] mayor igual a A[i], A[i-1]... A[m] siendo m la ultima posición del sub arreglo.\n",
    "A[k] menor igual a A[j], A[j+1]... A[p] siendo p la ultima posición del sub arreglo."
   ]
  },
  {
   "cell_type": "code",
   "execution_count": 19,
   "metadata": {
    "collapsed": false
   },
   "outputs": [],
   "source": [
    "def invarianteQuickSort(A, pivote):\n",
    "    i=0\n",
    "    j=pivote+1\n",
    "    if j < len(A):\n",
    "        while j < len(A):\n",
    "            if A[pivote] < A[j]:\n",
    "                j = j + 1\n",
    "            else:\n",
    "                return False;\n",
    "    else:\n",
    "        if pivote != 0:\n",
    "            while i>0:\n",
    "                if A[pivote] > A[i]:\n",
    "                    i = i - 1\n",
    "                else:\n",
    "                    return False\n",
    "    return True"
   ]
  },
  {
   "cell_type": "code",
   "execution_count": 20,
   "metadata": {
    "collapsed": false
   },
   "outputs": [
    {
     "name": "stdout",
     "output_type": "stream",
     "text": [
      "True\n",
      "False\n"
     ]
    }
   ],
   "source": [
    "print (invarianteQuickSort([1,2,3,4,5],2))\n",
    "print (invarianteQuickSort([5,4,3,2,1],2))"
   ]
  },
  {
   "cell_type": "code",
   "execution_count": 21,
   "metadata": {
    "collapsed": true
   },
   "outputs": [],
   "source": [
    "def acct_quick_sort(A, i, f, acct):\n",
    "    if i < f:\n",
    "        acct.count()\n",
    "        pivote = acct_partition(A, i, f,acct);acct.count()\n",
    "        acct_quick_sort(A, i, pivote-1,acct);acct.count()\n",
    "        acct_quick_sort(A, pivote+1, f, acct);acct.count()\n",
    "    return A;acct.count()\n",
    "\n",
    "def acct_partition(A, i, f, acct):\n",
    "    pivote = A[i];acct.count()\n",
    "    izq = i+1;acct.count()\n",
    "    der = f;acct.count()\n",
    "    bandera = True\n",
    "    while  bandera:\n",
    "        acct.count()\n",
    "        while izq <= der and A[izq] <= pivote:\n",
    "            acct.count()\n",
    "            izq = izq + 1;acct.count()\n",
    "        while A[der] >= pivote and der >=izq:\n",
    "            acct.count()\n",
    "            der = der -1;acct.count()\n",
    "        if der < izq:\n",
    "            acct.count()\n",
    "            bandera= False;acct.count()\n",
    "        else:\n",
    "            acct.count()\n",
    "            A[izq],A[der]=A[der],A[izq];acct.count()\n",
    "\n",
    "    A[i], A[der]= A[der], A[i];acct.count()\n",
    "    return der;acct.count()"
   ]
  },
  {
   "cell_type": "code",
   "execution_count": 22,
   "metadata": {
    "collapsed": false
   },
   "outputs": [
    {
     "name": "stdout",
     "output_type": "stream",
     "text": [
      "Number of steps = 138\n"
     ]
    }
   ],
   "source": [
    "B = np.random.permutation(range(0,10))\n",
    "acct = Counter()\n",
    "C= B.tolist()\n",
    "tamC= len(B)\n",
    "acct_quick_sort(C,0,tamC - 1, acct)\n",
    "acct.print_steps()"
   ]
  },
  {
   "cell_type": "code",
   "execution_count": 23,
   "metadata": {
    "collapsed": true
   },
   "outputs": [],
   "source": [
    "def exper_analysis_quick_Sort(n):\n",
    "    results = []\n",
    "    acct = Counter()\n",
    "    for i in range(n):\n",
    "        B = np.random.permutation(range(0,i))\n",
    "        C= B.tolist()\n",
    "        acct.reset()\n",
    "        tamC= len(B)\n",
    "        acct_quick_sort(C,0,tamC - 1, acct)\n",
    "        results.append(acct.steps)\n",
    "    return results"
   ]
  },
  {
   "cell_type": "code",
   "execution_count": 24,
   "metadata": {
    "collapsed": false
   },
   "outputs": [
    {
     "name": "stdout",
     "output_type": "stream",
     "text": [
      "[0, 0, 13, 28, 33, 64, 59, 87, 85, 127]\n"
     ]
    }
   ],
   "source": [
    "print (exper_analysis_quick_Sort(10))"
   ]
  },
  {
   "cell_type": "code",
   "execution_count": 25,
   "metadata": {
    "collapsed": false
   },
   "outputs": [
    {
     "data": {
      "text/plain": [
       "[<matplotlib.lines.Line2D at 0x10d8e86a0>]"
      ]
     },
     "execution_count": 25,
     "metadata": {},
     "output_type": "execute_result"
    },
    {
     "data": {
      "image/png": "[encoded data removed]",
      "text/plain": [
       "<matplotlib.figure.Figure at 0x10cfc1160>"
      ]
     },
     "metadata": {},
     "output_type": "display_data"
    }
   ],
   "source": [
    "pl.clf()\n",
    "x = np.arange(1000)\n",
    "y = np.array(exper_analysis_quick_Sort(1000))\n",
    "pl.plot(x, y, 'k.')"
   ]
  },
  {
   "cell_type": "code",
   "execution_count": 26,
   "metadata": {
    "collapsed": true
   },
   "outputs": [],
   "source": [
    "def tiempo_quickSort(n):\n",
    "    results = []\n",
    "    acct = Counter()\n",
    "    for i in range(n):\n",
    "        tic= time.clock()\n",
    "        B = np.random.permutation(range(0,i))\n",
    "        C= B.tolist()\n",
    "        acct.reset()\n",
    "        tamC= len(B)\n",
    "        acct_quick_sort(C,0,tamC - 1, acct)\n",
    "        toc= time.clock()\n",
    "        tiempo= toc-tic\n",
    "        results.append(tiempo)\n",
    "    return results"
   ]
  },
  {
   "cell_type": "code",
   "execution_count": 27,
   "metadata": {
    "collapsed": false
   },
   "outputs": [
    {
     "name": "stdout",
     "output_type": "stream",
     "text": [
      "[0.00015800000000076864, 0.00019499999999972317, 5.699999999997374e-05, 5.200000000016303e-05, 4.900000000063187e-05, 5.799999999922534e-05, 9.100000000117348e-05, 0.00013700000000049783, 0.00014200000000030855, 0.00021499999999896602]\n"
     ]
    }
   ],
   "source": [
    "print (tiempo_quickSort(10))"
   ]
  },
  {
   "cell_type": "code",
   "execution_count": 28,
   "metadata": {
    "collapsed": false
   },
   "outputs": [
    {
     "data": {
      "text/plain": [
       "[<matplotlib.lines.Line2D at 0x10da0b7b8>]"
      ]
     },
     "execution_count": 28,
     "metadata": {},
     "output_type": "execute_result"
    },
    {
     "data": {
      "image/png": "[encoded data removed]",
      "text/plain": [
       "<matplotlib.figure.Figure at 0x10d7e6588>"
      ]
     },
     "metadata": {},
     "output_type": "display_data"
    }
   ],
   "source": [
    "pl.clf()\n",
    "x = np.arange(100)\n",
    "y = np.array(tiempo_quickSort(100))\n",
    "pl.plot(x, y, 'k.')"
   ]
  },
  {
   "cell_type": "markdown",
   "metadata": {},
   "source": [
    "<p>La proxima grafica muestra los dos algoritmos en comparación con el mergesort y quick sort</p>"
   ]
  },
  {
   "cell_type": "code",
   "execution_count": 29,
   "metadata": {
    "collapsed": false
   },
   "outputs": [
    {
     "data": {
      "image/png": "[encoded data removed]",
      "text/plain": [
       "<matplotlib.figure.Figure at 0x10da222b0>"
      ]
     },
     "metadata": {},
     "output_type": "display_data"
    }
   ],
   "source": [
    "pl.clf()\n",
    "x = np.arange(100)\n",
    "y = np.array(tiempo_quickSort(100))\n",
    "y1 = np.array(tiempo_mergeSort(100))\n",
    "plt.plot(x, y,  x, y1 )\n",
    "plt.show()"
   ]
  },
  {
   "cell_type": "markdown",
   "metadata": {},
   "source": [
    "<p>En la grafica se muestran algunos saltos mas que nada en quick sort por que la partición puede ser insestable pero se ve que empieza a formar una curva de nlogn y merge sort tambien por lo que se ve en la grafica verde que se demora menos </p>"
   ]
  }
 ],
 "metadata": {
  "anaconda-cloud": {},
  "kernelspec": {
   "display_name": "Python [default]",
   "language": "python",
   "name": "python3"
  },
  "language_info": {
   "codemirror_mode": {
    "name": "ipython",
    "version": 3
   },
   "file_extension": ".py",
   "mimetype": "text/x-python",
   "name": "python",
   "nbconvert_exporter": "python",
   "pygments_lexer": "ipython3",
   "version": "3.5.2"
  }
 },
 "nbformat": 4,
 "nbformat_minor": 1
}
