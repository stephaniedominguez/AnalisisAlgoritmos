{
 "cells": [
  {
   "cell_type": "markdown",
   "metadata": {},
   "source": [
    "<h2>Impelmentaciones de los algoritmos</h2>"
   ]
  },
  {
   "cell_type": "markdown",
   "metadata": {},
   "source": [
    "<p>La primera implenetación es la siguiente del problema MST:</p>"
   ]
  },
  {
   "cell_type": "markdown",
   "metadata": {
    "collapsed": true
   },
   "source": [
    "<p>La función de este docuemnto sera explicar el codigo que se realizo y las dos implmentaciones que se escogieron para poder solucionar el algoritmo MST, la segunda parte sera el codigo con los algoritmos</p>"
   ]
  },
  {
   "cell_type": "code",
   "execution_count": 2,
   "metadata": {
    "collapsed": true
   },
   "outputs": [],
   "source": [
    "import numpy as np\n",
    "import re\n",
    "from collections import namedtuple"
   ]
  },
  {
   "cell_type": "code",
   "execution_count": 4,
   "metadata": {
    "collapsed": true
   },
   "outputs": [],
   "source": [
    "def intializeMatrix():\n",
    "    Pair = namedtuple(\"Pair\", [\"first\", \"second\"])\n",
    "    A= np.zeros()\n",
    "    return A"
   ]
  },
  {
   "cell_type": "code",
   "execution_count": null,
   "metadata": {
    "collapsed": true
   },
   "outputs": [],
   "source": [
    "def getConection(A,u,v):\n",
    "    return a[u][v]"
   ]
  },
  {
   "cell_type": "code",
   "execution_count": null,
   "metadata": {
    "collapsed": true
   },
   "outputs": [],
   "source": [
    "def getListConection(A,u, bandera):\n",
    "    tam = len(A)\n",
    "    lista= []\n",
    "    for i in range (tam):\n",
    "        if A[u,i] != inf:\n",
    "            lista.insert(a)\n",
    "    return "
   ]
  },
  {
   "cell_type": "code",
   "execution_count": null,
   "metadata": {
    "collapsed": true
   },
   "outputs": [],
   "source": [
    "def getPrority(A):\n",
    "    for i "
   ]
  },
  {
   "cell_type": "code",
   "execution_count": 1,
   "metadata": {
    "collapsed": true
   },
   "outputs": [],
   "source": [
    "parent = dict()\n",
    "rank = dict()\n",
    "\n",
    "def make_set(vertice):\n",
    "    parent[vertice] = vertice\n",
    "    rank[vertice] = 0\n",
    "\n",
    "def find(vertice):\n",
    "    if parent[vertice] != vertice:\n",
    "        parent[vertice] = find(parent[vertice])\n",
    "    return parent[vertice]\n",
    "\n",
    "def union(vertice1, vertice2):\n",
    "    root1 = find(vertice1)\n",
    "    root2 = find(vertice2)\n",
    "    if root1 != root2:\n",
    "        if rank[root1] > rank[root2]:\n",
    "            parent[root2] = root1\n",
    "        else:\n",
    "            parent[root1] = root2\n",
    "            if rank[root1] == rank[root2]: rank[root2] += 1\n",
    "\n",
    "def kruskal(graph, blue, red, k, n):\n",
    "    for vertice in graph['vertices']:\n",
    "        make_set(vertice)\n",
    "\n",
    "    minimum_spanning_tree = set()\n",
    "    edges = list(graph['edges'])\n",
    "    edges.sort()\n",
    "    for edge in edges:\n",
    "        weight, vertice1, vertice2 = edge\n",
    "        if find(vertice1) != find(vertice2):\n",
    "            union(vertice1, vertice2)\n",
    "            minimum_spanning_tree.add(edge)\n",
    "    return minimum_spanning_tree\n",
    "\n",
    "graph = {\n",
    "        'vertices': ['A', 'B', 'C', 'D', 'E', 'F'],\n",
    "        'edges': set([\n",
    "            (1, 'A', 'B'),\n",
    "            (5, 'A', 'C'),\n",
    "            (3, 'A', 'D'),\n",
    "            (4, 'B', 'C'),\n",
    "            (2, 'B', 'D'),\n",
    "            (1, 'C', 'D'),\n",
    "            ])\n",
    "        }\n",
    "minimum_spanning_tree = set([\n",
    "            (1, 'A', 'B'),\n",
    "            (2, 'B', 'D'),\n",
    "            (1, 'C', 'D'),\n",
    "            ])\n",
    "assert kruskal(graph) == minimum_spanning_tree"
   ]
  },
  {
   "cell_type": "code",
   "execution_count": null,
   "metadata": {
    "collapsed": true
   },
   "outputs": [],
   "source": [
    "blue=1\n",
    "red=0\n",
    "print([i for i in re.split(r'(\\d+|\\W+)', 'x+13.5*10x-4e1') if i])"
   ]
  },
  {
   "cell_type": "code",
   "execution_count": null,
   "metadata": {
    "collapsed": true
   },
   "outputs": [],
   "source": [
    "def leerArch(file):\n",
    "    f= open(file,'r')\n",
    "    matrix= f.readline()\n",
    "    k=f.readline()\n",
    "    n= matrix-k-1\n",
    "    k = int(k)\n",
    "    n= int(n)\n",
    "    A= []\n",
    "    A= intializeMatrix()\n",
    "    B= intializeMatrix()\n",
    "    R= intializeMatrix()\n",
    "    matrix = int(matrix)\n",
    "    for j in range (0,matrix)\n",
    "        a[i,j]=([i for i in re.split(r'(\\d+|\\W+)', 'x+13.5*10x-4e1') if i])\n",
    "    blue=0\n",
    "    red=0\n",
    "    #minumn spaning tree red\n",
    "    R=kruskal(matrix, blue, red, k, n)\n",
    "    #minumn spaning tree blue\n",
    "    B=kruskal(matrix, blue, red, k, n)"
   ]
  },
  {
   "cell_type": "code",
   "execution_count": null,
   "metadata": {
    "collapsed": true
   },
   "outputs": [],
   "source": [
    "def merge (R,B,k,n,matrix, h, l):\n",
    "    l= intializeMatrix()\n",
    "    for j in range (0, matrix)\n",
    "        for i in range (0,matrix):\n",
    "            if R[h,j] == B[l,i]:\n",
    "                l[h,j]= R[h,j]\n",
    "                return merge(R,B,k,n,matrix, h+1,l+1)\n",
    "            elif R[h,j] < B[l,i]:\n",
    "                l[h,j]= R[h,j]\n",
    "                return merge(R,B,k,n,matrix, h,l+1)\n",
    "            else:\n",
    "                l[h,j]= B[l,i]\n",
    "                return merge(R,B,k,n,matrix, h+1,l)"
   ]
  }
 ],
 "metadata": {
  "anaconda-cloud": {},
  "kernelspec": {
   "display_name": "Python [conda root]",
   "language": "python",
   "name": "conda-root-py"
  },
  "language_info": {
   "codemirror_mode": {
    "name": "ipython",
    "version": 3
   },
   "file_extension": ".py",
   "mimetype": "text/x-python",
   "name": "python",
   "nbconvert_exporter": "python",
   "pygments_lexer": "ipython3",
   "version": "3.5.2"
  }
 },
 "nbformat": 4,
 "nbformat_minor": 1
}
