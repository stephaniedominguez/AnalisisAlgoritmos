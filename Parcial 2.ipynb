{
 "cells": [
  {
   "cell_type": "markdown",
   "metadata": {},
   "source": [
    "<h1>PARCIAL </h1>"
   ]
  },
  {
   "cell_type": "markdown",
   "metadata": {},
   "source": [
    "<h4>1.Es posible transformar algorithm en analysis sin usar operaciones “izquierda”. Escriba una secuencia de operaciones (de la misma forma que la tabla de ejemplo) que tenga el mismo costo que el mostrado en el ejemplo pero sin usar operaciones “izquierda”.</h4>"
   ]
  },
  {
   "cell_type": "markdown",
   "metadata": {},
   "source": [
    "<p><b>Solución:</b></p>"
   ]
  },
  {
   "cell_type": "markdown",
   "metadata": {},
   "source": [
    "<table>\n",
    "  <tr>\n",
    "    <th>Iteración</th>  \n",
    "    <th>Palabra</th>\n",
    "    <th>Metodo</th>\n",
    "    <th>Costo</th>\n",
    "    <th>Total</th>\n",
    "  </tr>\n",
    "  <tr>\n",
    "    <td>1</td>\n",
    "    <td><span style=\"text-decoration: underline;\">A</span>lgorithm</td>\n",
    "    <td>Inicialización</td>\n",
    "    <td>0</td>\n",
    "    <td>0</td>\n",
    "  </tr>\n",
    "  <tr>\n",
    "    <td>2</td>\n",
    "    <td><span style=\"text-decoration: underline;\">A</span>lgorithm</td>\n",
    "    <td>Derecha</td>\n",
    "    <td>0</td>\n",
    "    <td>0</td>\n",
    "  </tr>\n",
    "  <tr>\n",
    "    <td>3</td>\n",
    "    <td>A<span style=\"text-decoration: underline;\">n</span>lgorithm</td>\n",
    "    <td>Insertar(n)</td>\n",
    "    <td>3</td>\n",
    "    <td>3</td>\n",
    "  </tr>\n",
    "  <tr>\n",
    "    <td>4</td>\n",
    "    <td>An<span style=\"text-decoration: underline;\">a</span>lgorithm</td>\n",
    "    <td>Insertar(a)</td>\n",
    "    <td>3</td>\n",
    "    <td>6</td>\n",
    "  </tr>\n",
    "  <tr>\n",
    "    <td>5</td>\n",
    "    <td>Ana<span style=\"text-decoration: underline;\">l</span>gorithm</td>\n",
    "    <td>Derecha</td>\n",
    "    <td>0</td>\n",
    "    <td>6</td>\n",
    "  </tr>\n",
    "  <tr>\n",
    "    <td>6</td>\n",
    "    <td>Anal<span style=\"text-decoration: underline;\">g</span>orithm</td>\n",
    "    <td>Remplazar(g,y)</td>\n",
    "    <td>4</td>\n",
    "    <td>10</td>\n",
    "  </tr>\n",
    "  <tr>\n",
    "    <td>7</td>\n",
    "    <td>Analy<span style=\"text-decoration: underline;\">o</span>rithm</td>\n",
    "    <td>Remplazar(o,s)</td>\n",
    "    <td>4</td>\n",
    "    <td>14</td>\n",
    "  </tr>\n",
    "  <tr>\n",
    "    <td>8</td>\n",
    "    <td>Analys<span style=\"text-decoration: underline;\">r</span>ithm</td>\n",
    "    <td>Remplazar(r,i)</td>\n",
    "    <td>4</td>\n",
    "    <td>18</td>\n",
    "  </tr>\n",
    "  <tr>\n",
    "    <td>9</td>\n",
    "    <td>Analysi<span style=\"text-decoration: underline;\">i</span>thm</td>\n",
    "    <td>Remplazar(i,s)</td>\n",
    "    <td>4</td>\n",
    "    <td>22</td>\n",
    "  </tr>\n",
    "  <tr>\n",
    "    <td>10</td>\n",
    "    <td>Analysis<span style=\"text-decoration: underline;\">t</span>hm</td>\n",
    "    <td>Eliminar</td>\n",
    "    <td>2</td>\n",
    "    <td>24</td>\n",
    "  </tr>\n",
    "  <tr>\n",
    "    <td>11</td>\n",
    "    <td>Analysis<span style=\"text-decoration: underline;\">h</span>m</td>\n",
    "    <td>Eliminar</td>\n",
    "    <td>2</td>\n",
    "    <td>26</td>\n",
    "  </tr>\n",
    "  <tr>\n",
    "    <td>12</td>\n",
    "    <td>Analysis<span style=\"text-decoration: underline;\">m</span></td>\n",
    "    <td>Eliminar</td>\n",
    "    <td>2</td>\n",
    "    <td>28</td>\n",
    "  </tr>\n",
    "  <tr>\n",
    "    <td>12</td>\n",
    "    <td>Analysis<span style=\"text-decoration: underline;\"></span></td>\n",
    "    <td></td>\n",
    "    <td></td>\n",
    "    <td>28</td>\n",
    "  </tr>\n",
    "</table>"
   ]
  },
  {
   "cell_type": "markdown",
   "metadata": {},
   "source": [
    "<h4>2.Muestre que para dos cadenas x y y con distancia de edición d(x, y), existe una secuencia S de operaciones que transforman x en y con costo d(x, y) donde S no contiene operaciones “izquierda”.</h4>"
   ]
  },
  {
   "cell_type": "markdown",
   "metadata": {},
   "source": [
    "<p>En la siguiente parte de la pagína se va a explicar como se puede demostrar el punto 2en una serie de pasos</p>\n",
    "<p>\n",
    "    <ul>\n",
    "        <li>Se va a usar  prueba de contradicción para demostrar que existe una secuencia S de operaciones que transforma x en y con costo d(x,y) donde S no contiene operaciones \"Izquierda\".</li>\n",
    "        <li>Suponemos que no existe S, para empezar el metodo de contradicción</li>\n",
    "        <li>Se tiene una nueva lista A que tiene la todas las operaciones incluyendo izquierda</li>\n",
    "        <li><b>Es importante acalarar que el costo de insertar y eliminar un carcter es mayor que remplazar por tanto </b></li>\n",
    "        <li>(I+E) > R -> (2+ 3) > 4</li>\n",
    "        <li>Se va a insertar un caracter</li>\n",
    "        <li>Utilizando las funciones de insertar y eliminar se aproxima a una respuesta</li>\n",
    "        <li>Se obtienen una nueva subsequencia que no tenga la operaciones de insertar ni eliminar.</li>\n",
    "        <li>Como se puede observar en los anteriores puntos es más eficiente remplazar que eliminar e insertar al tiempo</li>\n",
    "        <li>Por tanto podemos decir que si tenemos una una subsequencia A' que no tenga estas operaciones.</li>\n",
    "        <li>Por tanto podemos decir que hay una subsequencia S que puede usarse sin el metodo izquierda y de manera más eficiente.</li>\n",
    "    </ul>\n",
    "</p>"
   ]
  },
  {
   "cell_type": "markdown",
   "metadata": {},
   "source": [
    "<h4>3. Muestre que el problema de calcular la distancia de edici ́on d(x, y) presenta una subestructura  ́optima. (Considere todos los sufijos de x y y)</h4>"
   ]
  },
  {
   "cell_type": "markdown",
   "metadata": {},
   "source": [
    "<h4>Subestructura optima</h4>\n",
    "<ul>\n",
    "<li>C= Costo</li>\n",
    "<li>i , j = iteradores</li>\n",
    "</ul>\n",
    "<p>Sumatoria de 0 hasta i  C(i)= d(x, y[i]) -> d(x,y)= C(m,n) </p>\n",
    "<ul>\n",
    "<li>C(i,j)= costo minimo de transformar el carcter j de x en el carter i en y</li>\n",
    "<li>d(x,y) = C(n,m)</li>\n",
    "<li>Si se tiene la subsequencia S entonces se puede decir que el costo C(S)= d (x,y) </li>\n",
    "</ul>"
   ]
  },
  {
   "cell_type": "markdown",
   "metadata": {},
   "source": [
    "<h4>4. Recursivamente defina el valor de la distancia de edición d(x, y) en terminos de los sufijos de las cadenas x y y. Señale como la distancia de edición contiene sobrelapamiento de los subproblemas.</h4>"
   ]
  },
  {
   "cell_type": "markdown",
   "metadata": {},
   "source": [
    "<p>\n",
    "<ul>\n",
    "<li>Se puede calcular el valor de la distancia de edición d(x,y) usuando como definición el costo(i,j) o como en el punto anterior d(x,y)= C(m,n) </li>\n",
    "<li>las operaciones que se utilizan para este metodo son: \n",
    "    <ul>\n",
    "    <li>Eliminar</li>\n",
    "    <li>Insertar</li>\n",
    "    <li>Remplazar</li>\n",
    "    <li>Derecha</li>\n",
    "    </ul>\n",
    "</li>\n",
    "<li>Ya que no se tiene la función izquierda se puede iterar sobre las subcadenas y lasi ir sumando en cada operación por ejemplo en insertar se suma 3 mas lo que se tenia guardado en eliminar se suma 2 y en remplazar se suma 4 en caso de que la letra en la posición sea la misma este no debera sumar nada</li>\n",
    "<li>Lo siguientes son los escenarios para realizar la recursión</li>\n",
    "<li>C(i,j) minimizar\n",
    "    <ul>\n",
    "    <li>0 si i=0, j=0 <b>Este es el caso base</b></li>\n",
    "    <li>Las siguientes aplican si i>0 y j>0</li>\n",
    "    <li>C(i-1, j-1) si x[i-1]= y[j-1]</li>\n",
    "    <li>C(i-1,j-1)+4 //este es el valor para remplzar </li>\n",
    "    <li>Para las siguientes no aplican la condicion de i>0 y j>0 </li>\n",
    "    <li>C(i,j-1)+3 si j>0 // valor para insertar </li>\n",
    "    <li>C(i-1,j)+2 si i>0 // valor para eliminar </li>\n",
    "    </ul>\n",
    "</li>\n",
    "</ul>\n",
    "<p>Gracias a esto se puede ver que hay muchas partes del arbol que se repiten es decir que se vuleven a calcular muchas veces ya que si se calculo la respuesta C(i,j) ya se tiene la respuesta de C(i-1, j) y C(i-2,j) y asi mismo pasa con C(i,j-1) y C(i,j-2) sucesivamente por tanto se repitiendo de manera de incesaria muchos calculos </p>\n",
    "<p>"
   ]
  },
  {
   "cell_type": "markdown",
   "metadata": {},
   "source": [
    "<h4>5. Describa un algoritmo de programación dinámica que calcule la distancia de edición de x y y. (No use memorizaci ́on) Análise el tiempo de ejecución y el espacio requeridos por su algoritmo.\n",
    "</h4>"
   ]
  },
  {
   "cell_type": "markdown",
   "metadata": {},
   "source": [
    "<h5>Con memorización y el algoritmo que se implemento en los siguientes puntos</h5>\n",
    "<p>Se implemento en los otros puntos ya que sin memorización se demora mucho en la parte de abajo se encuentrea el analisis respectivo sin memorización</p>\n",
    "<p>Para esta función me base en el clasico problema de edit ya que con este es solo con un valor por cada de metodo en ese caso seria de 1. para este problema lo modifique un poco pero sigue siendo la misma estructura</p>\n",
    "<p>Pasos</p>\n",
    "<ul>\n",
    "<li>Se crea una matriz donde cada i,j es el costo es decir la C(i,j)</li>\n",
    "<li>Se va iterar recursivamente sobre la matriz hasta llegar a la poscion nm y minimizando el costo de remplazar el metodo </li>\n",
    "<li>di es una matriz que empieza en ceros</li>\n",
    "<li>m es el tamaño de la cadena x</li>\n",
    "<li>n es el tamaño de la cadena y</li>\n",
    "</ul>\n",
    "<p>Pseudocodigo</p>\n",
    "<p>\n",
    "global di\n",
    "<br>\n",
    "edit(m,n,x[1..m],y[1..n])\n",
    "\n",
    "<br>\n",
    "for i =1 to m\n",
    "<br>\n",
    "    j=0\n",
    "    <br>\n",
    "for i =1 to n\n",
    "<br>\n",
    "if (i > 0 and j>0 and x[i-1] = y[j-1])\n",
    "<br>\n",
    "minimo = +infinito\n",
    "    <br>\n",
    "    operacion =  di[i-1,j-1]\n",
    "    <br>\n",
    "    minimo=min (minimo,operacion )\n",
    "    <br>\n",
    " if (i>0 and j>0)\n",
    " <br>\n",
    "    operacionRemplazar =  di[i-1,j-1] +4\n",
    "    <br>\n",
    "    minimo=min (minimo,operacionRemplazar )\n",
    "    <br>\n",
    " if (i>0)\n",
    " <br>\n",
    "    operacionEliminar =  di[i-1,j] +2\n",
    "    <br>\n",
    "   minimo= min (minimo,operacionEliminar )\n",
    "    <br>\n",
    " if (j>0)\n",
    " <br>\n",
    "    operacionInsertar =  di[i-1,j] +3\n",
    "    <br>\n",
    "    minimo=min (minimo,operacionInsertar )\n",
    "    <br>\n",
    "    d[i,j]= minimo\n",
    "    <br>\n",
    "retornar di[n,m]\n",
    "</p>\n",
    "<p>Para el tiempo del algoritmo en cualquier caso se recorre la matriz que es de n*m que son los tamaños de las secuencias por tanto se concluye que:</p>\n",
    " <ul>\n",
    "    <li>mejor caso: n por m</li>\n",
    "    <li>caso promedio: n por m</li>\n",
    "    <li>Peor caso: n por m</li>\n",
    "    </ul>\n",
    "    \n",
    "<p>El algoritmo siempre va ancesitar crear un matirz de n*m por tanto siempre se va a ncesitar n*m de espacio</p>\n",
    "\n",
    "<h5>Sin memorización</h5>\n",
    "<p>\n",
    "Sin memorización el algoritmo se vuelve muy ineficiente ya que:\n",
    " <ul>\n",
    "    <li> Se sobrelapan las respuestas</li>\n",
    "    <li> ya que se tiene 4 opciones: insertar, elminar, remplazar y a la derecha se tienen 4 posibilidades de las cuales el algoritmo puede tomar cualquiera.</li>\n",
    "    <li> el algortimo obtendria una complejidad de 4 elevado al maximo tamaño entre la secuencia x o y y nos da de caracter exponencial</li>\n",
    "    </ul>\n",
    "<p>Por ejemplo si tenemos las siguientes palabras:</p>\n",
    "\n",
    " <ul>\n",
    "    <li> x= algorithm</li>\n",
    "    <li> y= analysis</li>\n",
    "    <li> el algoritmo tendria que hacer 4 elevado a ek max(x.tam, y.tam) por tanto daria 4 elevado a 9</li>\n",
    "    </ul>\n",
    "<p>Si se habla en cuanto a memoria no se crerian más estructuras adicionales por tanto en espacio este seria más eficiente</p>\n",
    "\n",
    "<b>Por tal motivo se escogio O(m*n) menor a O(4 elevado max(x.tam,y.tam))</b>\n",
    "</p>"
   ]
  },
  {
   "cell_type": "markdown",
   "metadata": {},
   "source": [
    "<h4>4.Implemente su algoritmo en Python, y publiquelo en un NoteBook donde lo pruebe para las cadenas: x = software engineering, y = computer science\n",
    "</h4>"
   ]
  },
  {
   "cell_type": "markdown",
   "metadata": {},
   "source": [
    "<p>En la siguiente parte se implementara el algoritmo que se implemento arriba</p>"
   ]
  },
  {
   "cell_type": "code",
   "execution_count": 1,
   "metadata": {
    "collapsed": true
   },
   "outputs": [],
   "source": [
    "import numpy as np"
   ]
  },
  {
   "cell_type": "code",
   "execution_count": 2,
   "metadata": {
    "collapsed": true
   },
   "outputs": [],
   "source": [
    "def iniciaizarMatrix(m,n):\n",
    "    di= np.zeros([m,n])\n",
    "    return di"
   ]
  },
  {
   "cell_type": "code",
   "execution_count": 3,
   "metadata": {
    "collapsed": false
   },
   "outputs": [],
   "source": [
    "def edit(m,n,x,y):\n",
    "    operacion1=0\n",
    "    operacionRemplazar=0\n",
    "    operacionInsertar=0\n",
    "    operacionEliminar=0\n",
    "    minimo=1000000.0\n",
    "    di=iniciaizarMatrix(m+1,n+1)\n",
    "    for i in range (0,m+1):\n",
    "        for j in range (0, n+1):\n",
    "            if (i==0 and j==0):\n",
    "                aux=0 \n",
    "            else:\n",
    "                minimo = 10000000000.0;#se inicializa en un numero muy grande para poder minimizar\n",
    "                if i > 0 and j>0 and x[i-1]==y[j-1]:\n",
    "                    operacion1= di[i-1,j-1]\n",
    "                    minimo=min(operacion1,minimo)\n",
    "                if i >0 and j>0:\n",
    "                    operacionRemplazar = di[i-1,j-1] + 4\n",
    "                    minimo=min(operacionRemplazar,minimo)\n",
    "                if i> 0:\n",
    "                    operacionInsertar = di[i-1,j] +3\n",
    "                    minimo=min(operacionInsertar,minimo)\n",
    "                if j>0:\n",
    "                    operacionEliminar = di[i,j-1] +2\n",
    "                    minimo=min(operacionEliminar,minimo)\n",
    "            \n",
    "            if (i==0 and j==0):\n",
    "                aux=0\n",
    "            else:\n",
    "                di[i][j]=minimo\n",
    "    return di[m-1][n-1]"
   ]
  },
  {
   "cell_type": "code",
   "execution_count": 11,
   "metadata": {
    "collapsed": false
   },
   "outputs": [
    {
     "name": "stdout",
     "output_type": "stream",
     "text": [
      "20.0\n"
     ]
    }
   ],
   "source": [
    "x= \"analysis\"\n",
    "y= \"algorithm\"\n",
    "m=len(x)\n",
    "n= len(y)\n",
    "a=edit(m,n,x,y)\n",
    "print(a)"
   ]
  },
  {
   "cell_type": "markdown",
   "metadata": {},
   "source": [
    "<h4>7. Ejecute su programa para las tres instancias proveidas en 3 archivos de texto plano, donde cada archivo contiene las siguientes cuatro líneas:\n",
    "(a) El número de caracteres m en la cadena x. (b) La cadena x\n",
    "(c) El número de caracteres n en la cadena y. (d) La cadena y</h4>"
   ]
  },
  {
   "cell_type": "code",
   "execution_count": 5,
   "metadata": {
    "collapsed": false
   },
   "outputs": [],
   "source": [
    "def leerArch(file):\n",
    "    f= open(file,'r')\n",
    "    n= f.readline()\n",
    "    x=f.readline()\n",
    "    m=f.readline()\n",
    "    y=f.readline()\n",
    "    n = int(n)\n",
    "    m= int(m)\n",
    "    return edit(n,m,x,y)"
   ]
  },
  {
   "cell_type": "code",
   "execution_count": 6,
   "metadata": {
    "collapsed": false
   },
   "outputs": [
    {
     "name": "stdout",
     "output_type": "stream",
     "text": [
      "Prueba 1 con el archivo ps7_input1:\n",
      "1713.0\n"
     ]
    }
   ],
   "source": [
    "print(\"Prueba 1 con el archivo ps7_input1:\")\n",
    "print (leerArch('ps7_input1.txt'))"
   ]
  },
  {
   "cell_type": "code",
   "execution_count": 7,
   "metadata": {
    "collapsed": false
   },
   "outputs": [
    {
     "name": "stdout",
     "output_type": "stream",
     "text": [
      "Prueba 2 con el archivo ps7_input2:\n",
      "1844.0\n"
     ]
    }
   ],
   "source": [
    "print(\"Prueba 2 con el archivo ps7_input2:\")\n",
    "print (leerArch('ps7_input2.txt'))"
   ]
  },
  {
   "cell_type": "code",
   "execution_count": 8,
   "metadata": {
    "collapsed": false
   },
   "outputs": [
    {
     "name": "stdout",
     "output_type": "stream",
     "text": [
      "Prueba 3 con el archivo ps7_input3:\n",
      "1518.0\n"
     ]
    }
   ],
   "source": [
    "print(\"Prueba 3 con el archivo ps7_input3:\")\n",
    "print (leerArch('ps7_input3.txt'))"
   ]
  },
  {
   "cell_type": "markdown",
   "metadata": {
    "collapsed": true
   },
   "source": [
    "<h4>Conclusiones</h4>\n",
    "<ul>\n",
    "<li>Con memorización es más eficiente ya que da complejidad de O(n*m)</li>\n",
    "<li>Las pruebas dieron postivas y de acuerdo a lo que se planeo</li>\n",
    "</ul>"
   ]
  },
  {
   "cell_type": "markdown",
   "metadata": {},
   "source": [
    "<p><b>Profe lo hice en html por que no se latex :( por eso las ecuaciones y definiciones matematicas no quedaron de manera apropiada.</b></p>"
   ]
  },
  {
   "cell_type": "code",
   "execution_count": null,
   "metadata": {
    "collapsed": true
   },
   "outputs": [],
   "source": []
  }
 ],
 "metadata": {
  "anaconda-cloud": {},
  "kernelspec": {
   "display_name": "Python [conda root]",
   "language": "python",
   "name": "conda-root-py"
  },
  "language_info": {
   "codemirror_mode": {
    "name": "ipython",
    "version": 3
   },
   "file_extension": ".py",
   "mimetype": "text/x-python",
   "name": "python",
   "nbconvert_exporter": "python",
   "pygments_lexer": "ipython3",
   "version": "3.5.2"
  }
 },
 "nbformat": 4,
 "nbformat_minor": 1
}
