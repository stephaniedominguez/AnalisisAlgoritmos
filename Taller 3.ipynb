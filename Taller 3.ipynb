{
 "cells": [
  {
   "cell_type": "code",
   "execution_count": 1,
   "metadata": {
    "collapsed": false
   },
   "outputs": [],
   "source": [
    "import math\n",
    "import time\n",
    "import matplotlib.pyplot as plt\n",
    "from itertools import chain\n",
    "import random as rnd\n",
    "import numpy as np\n",
    "import pylab as pl\n",
    "import time as tm\n",
    "%matplotlib inline"
   ]
  },
  {
   "cell_type": "markdown",
   "metadata": {},
   "source": [
    "<p>Fuerza bruta con complejidad de O(N^2)</p>"
   ]
  },
  {
   "cell_type": "code",
   "execution_count": 2,
   "metadata": {
    "collapsed": false
   },
   "outputs": [],
   "source": [
    "def funcionTrivial(A):\n",
    "    tam = len(A)\n",
    "    maxi=0\n",
    "    for i in range(0,tam):\n",
    "        suma=0\n",
    "        for j in range(i, tam):\n",
    "            suma = suma + A[j]\n",
    "            if(suma > maxi):\n",
    "                maxi= suma\n",
    "    return maxi"
   ]
  },
  {
   "cell_type": "code",
   "execution_count": 3,
   "metadata": {
    "collapsed": false
   },
   "outputs": [
    {
     "name": "stdout",
     "output_type": "stream",
     "text": [
      "20\n"
     ]
    }
   ],
   "source": [
    "a=[-2,11,-4,13,-5,2]\n",
    "suma = funcionTrivial(a)\n",
    "print(suma)"
   ]
  },
  {
   "cell_type": "markdown",
   "metadata": {},
   "source": [
    "<p>Implementación del parcial:O(nlogn)</p>"
   ]
  },
  {
   "cell_type": "code",
   "execution_count": 13,
   "metadata": {
    "collapsed": false
   },
   "outputs": [],
   "source": [
    "def suma(A, lo,mitad,  hi, mayor):\n",
    "    suma=0\n",
    "    for i in range(lo,hi):\n",
    "        suma= suma+ A[i]\n",
    "        if(mayor < suma):\n",
    "            mayor = suma      \n",
    "    return mayor"
   ]
  },
  {
   "cell_type": "code",
   "execution_count": 14,
   "metadata": {
    "collapsed": false
   },
   "outputs": [],
   "source": [
    "def dividir (A, lo, hi, mayor):\n",
    "    mitad = int((lo+hi) / 2)\n",
    "    if (lo < hi):\n",
    "        dividir(A,lo,mitad, mayor)\n",
    "        dividir(A, mitad+1, hi, mayor)\n",
    "        mayor = suma(A, lo, mitad , hi, mayor)\n",
    "    return mayor"
   ]
  },
  {
   "cell_type": "code",
   "execution_count": 15,
   "metadata": {
    "collapsed": false
   },
   "outputs": [
    {
     "name": "stdout",
     "output_type": "stream",
     "text": [
      "20\n"
     ]
    }
   ],
   "source": [
    "a=[11,-4,13,-5]\n",
    "tam = len(a)\n",
    "suma = dividir(a,0, tam-1, 0)\n",
    "print(suma)"
   ]
  },
  {
   "cell_type": "markdown",
   "metadata": {
    "collapsed": true
   },
   "source": [
    "<p>Implementación de taller:</p>"
   ]
  },
  {
   "cell_type": "code",
   "execution_count": 30,
   "metadata": {
    "collapsed": true
   },
   "outputs": [],
   "source": [
    "def sumamax3(a,prim,ult):\n",
    "    if(prim>ult):\n",
    "        return 0\n",
    "    if(prim == ult):\n",
    "        return max(0, a[prim])\n",
    "    mitad = int((prim+ult) / 2)\n",
    "    maxAux= max(sumamax3(a,prim,mitad), sumamax3(a,mitad+1,ult))\n",
    "    maxIzq= 0\n",
    "    suma=0\n",
    "    for i in range(prim,mitad):\n",
    "        suma = suma+ a[i]\n",
    "        maxIzq= max(maxIzq, suma)\n",
    "    maxDer=0;\n",
    "    suma=0\n",
    "    for j in range(mitad+1,ult):\n",
    "        suma = suma+ a[j]\n",
    "        maxDer= max(maxDer, suma)\n",
    "    print(maxDer, \" \",maxDer+maxIzq, \" \", maxAux)\n",
    "    return max(maxDer+maxIzq, maxAux)"
   ]
  },
  {
   "cell_type": "code",
   "execution_count": 31,
   "metadata": {
    "collapsed": false
   },
   "outputs": [
    {
     "name": "stdout",
     "output_type": "stream",
     "text": [
      "0   0   11\n",
      "0   0   11\n",
      "0   0   13\n",
      "0   13   13\n",
      "13   22   13\n",
      "22\n"
     ]
    }
   ],
   "source": [
    "a=[-2,11,-4,13,-5,2]\n",
    "tam= len(a)\n",
    "suma = sumamax3(a,0, tam-1)\n",
    "print(suma)"
   ]
  },
  {
   "cell_type": "code",
   "execution_count": null,
   "metadata": {
    "collapsed": true
   },
   "outputs": [],
   "source": []
  }
 ],
 "metadata": {
  "anaconda-cloud": {},
  "kernelspec": {
   "display_name": "Python [default]",
   "language": "python",
   "name": "python3"
  },
  "language_info": {
   "codemirror_mode": {
    "name": "ipython",
    "version": 3
   },
   "file_extension": ".py",
   "mimetype": "text/x-python",
   "name": "python",
   "nbconvert_exporter": "python",
   "pygments_lexer": "ipython3",
   "version": "3.5.2"
  }
 },
 "nbformat": 4,
 "nbformat_minor": 1
}
